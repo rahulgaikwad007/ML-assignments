{
 "cells": [
  {
   "cell_type": "markdown",
   "id": "cda3ff02",
   "metadata": {},
   "source": [
    "# Supervised Learning - Classification"
   ]
  },
  {
   "cell_type": "markdown",
   "id": "a89fd0cd",
   "metadata": {},
   "source": [
    "### Naive Bayes Algorithm:"
   ]
  },
  {
   "cell_type": "markdown",
   "id": "457b97ab",
   "metadata": {},
   "source": [
    "**Naive Bayes Algorithm:**\n",
    "Naive Bayes is a simple probabilistic classifier based on Bayes' theorem. It assumes that the presence of a particular feature in a class is independent of the presence of other features. Despite its simplistic assumptions, Naive Bayes can perform well on a wide range of classification problems."
   ]
  },
  {
   "cell_type": "markdown",
   "id": "182cf678",
   "metadata": {},
   "source": [
    "*Implementation of Naive Bayes Algorithm*"
   ]
  },
  {
   "cell_type": "code",
   "execution_count": 37,
   "id": "7898785a",
   "metadata": {},
   "outputs": [],
   "source": [
    "# importing the libraries\n",
    "import numpy as np\n",
    "import pandas as pd\n",
    "import matplotlib.pyplot as plt\n"
   ]
  },
  {
   "cell_type": "code",
   "execution_count": 38,
   "id": "52d3e065",
   "metadata": {},
   "outputs": [],
   "source": [
    "#defining the naive_bayes \n",
    "def naive_bayes(x_train, y_train, x_test):\n",
    "    # Compute class probabilities\n",
    "    unique_classes = np.unique(y_train)\n",
    "    class_probs = {}\n",
    "    for cls in unique_classes:\n",
    "        cls_indices = np.where(y_train == cls)\n",
    "        class_probs[cls] = len(cls_indices[0]) / len(y_train)\n",
    "\n",
    "    # Compute feature probabilities\n",
    "    feature_probs = {}\n",
    "    for feature_idx in range(x_train.shape[1]):\n",
    "        feature_probs[feature_idx] = {}\n",
    "        unique_features = np.unique(x_train[:, feature_idx])\n",
    "        for feature in unique_features:\n",
    "            feature_probs[feature_idx][feature] = {}\n",
    "            for cls in unique_classes:\n",
    "                cls_indices = np.where(y_train == cls)\n",
    "                feature_indices = np.where(x_train[cls_indices[0], feature_idx] == feature)\n",
    "                feature_probs[feature_idx][feature][cls] = len(feature_indices[0]) / len(cls_indices[0])\n",
    "\n",
    "    # Predict the class labels for test instances\n",
    "    y_pred = []\n",
    "    for test_instance in x_test:\n",
    "        max_prob = -1\n",
    "        pred_cls = None\n",
    "        for cls in unique_classes:\n",
    "            prob = class_probs[cls]\n",
    "            for feature_idx, feature_value in enumerate(test_instance):\n",
    "                if feature_value in feature_probs[feature_idx]:\n",
    "                    prob *= feature_probs[feature_idx][feature_value][cls]\n",
    "            if prob > max_prob:\n",
    "                max_prob = prob\n",
    "                pred_cls = cls\n",
    "        y_pred.append(pred_cls)\n",
    "\n",
    "    return y_pred\n"
   ]
  },
  {
   "cell_type": "markdown",
   "id": "51eaf3b0",
   "metadata": {},
   "source": [
    "### K-Nearest Neighbors (KNN) algorithm"
   ]
  },
  {
   "cell_type": "markdown",
   "id": "20ac3f1b",
   "metadata": {},
   "source": [
    "**K-Nearest Neighbors Algorithm:**\n",
    "K-Nearest Neighbors is a non-parametric algorithm used for classification and regression tasks. It classifies a new instance based on the majority vote of its K nearest neighbors in the feature space"
   ]
  },
  {
   "cell_type": "markdown",
   "id": "3964b31b",
   "metadata": {},
   "source": [
    "*Implementation of K-Nearest Neighbours algorithm*"
   ]
  },
  {
   "cell_type": "code",
   "execution_count": 39,
   "id": "802acb5f",
   "metadata": {},
   "outputs": [],
   "source": [
    "def k_nearest_neighbors(x_train, y_train, x_test, k=5):\n",
    "    y_pred = []\n",
    "    for test_instance in x_test:\n",
    "        distances = []\n",
    "        for train_instance in x_train:\n",
    "            distance = np.linalg.norm(test_instance - train_instance)\n",
    "            distances.append(distance)\n",
    "        nearest_indices = np.argsort(distances)[:k]\n",
    "        nearest_classes = y_train[nearest_indices]\n",
    "        unique_classes, class_counts = np.unique(nearest_classes, return_counts=True)\n",
    "        pred_cls = unique_classes[np.argmax(class_counts)]\n",
    "        y_pred.append(pred_cls)\n",
    "\n",
    "    return y_pred\n"
   ]
  },
  {
   "cell_type": "markdown",
   "id": "11a331fd",
   "metadata": {},
   "source": [
    "Implementation of the algorithm"
   ]
  },
  {
   "cell_type": "code",
   "execution_count": 40,
   "id": "9cd0e40a",
   "metadata": {},
   "outputs": [],
   "source": [
    "#aquring the data\n",
    "df = pd.read_csv(r'C:\\Users\\rahul\\Documents\\ML project\\ML-assignments\\titanic\\gender_submission.csv') \n",
    "x = df.iloc[:, :-1].values\n",
    "y = df.iloc[:, -1].values\n"
   ]
  },
  {
   "cell_type": "code",
   "execution_count": 41,
   "id": "8b2edafc",
   "metadata": {},
   "outputs": [],
   "source": [
    "def train_test_split(x, y, test_size=0.2):\n",
    "    num_instances = x.shape[0]\n",
    "    num_test_instances = int(test_size * num_instances)\n",
    "    indices = np.random.permutation(num_instances)\n",
    "    test_indices = indices[:num_test_instances]\n",
    "    train_indices = indices[num_test_instances:]\n",
    "    x_train = x[train_indices]\n",
    "    y_train = y[train_indices]\n",
    "    x_test = x[test_indices]\n",
    "    y_test = y[test_indices]\n",
    "    return x_train, y_train, x_test, y_test\n",
    "\n",
    "x_train, y_train, x_test, y_test = train_test_split(x, y, test_size=0.2)\n"
   ]
  },
  {
   "cell_type": "code",
   "execution_count": 42,
   "id": "f448c9d0",
   "metadata": {},
   "outputs": [],
   "source": [
    "# Naive Bayes\n",
    "nb_predictions = naive_bayes(x_train, y_train, x_test)\n",
    "\n",
    "# K-Nearest Neighbors\n",
    "knn_predictions = k_nearest_neighbors(x_train, y_train, x_test)\n"
   ]
  },
  {
   "cell_type": "code",
   "execution_count": 43,
   "id": "ea90b0b5",
   "metadata": {},
   "outputs": [
    {
     "name": "stdout",
     "output_type": "stream",
     "text": [
      "Naive Bayes Accuracy: 0.6024096385542169\n",
      "K-Nearest Neighbors Accuracy: 0.5060240963855421\n"
     ]
    }
   ],
   "source": [
    "def accuracy(y_true, y_pred):\n",
    "    correct = np.sum(y_true == y_pred)\n",
    "    total = len(y_true)\n",
    "    return correct / total\n",
    "\n",
    "nb_accuracy = accuracy(y_test, nb_predictions)\n",
    "knn_accuracy = accuracy(y_test, knn_predictions)\n",
    "\n",
    "print(\"Naive Bayes Accuracy:\", nb_accuracy)\n",
    "print(\"K-Nearest Neighbors Accuracy:\", knn_accuracy)\n"
   ]
  },
  {
   "cell_type": "code",
   "execution_count": 44,
   "id": "aeea6607",
   "metadata": {},
   "outputs": [
    {
     "data": {
      "image/png": "[encoded data removed]",
      "text/plain": [
       "<Figure size 1000x400 with 2 Axes>"
      ]
     },
     "metadata": {},
     "output_type": "display_data"
    }
   ],
   "source": [
    "plt.figure(figsize=(10, 4))\n",
    "plt.subplot(1, 2, 1)\n",
    "plt.scatter(range(len(y_test)), y_test, label='Actual')\n",
    "plt.scatter(range(len(y_test)), nb_predictions, label='Naive Bayes')\n",
    "plt.xlabel('Instance')\n",
    "plt.ylabel('Class Label')\n",
    "plt.title('Naive Bayes Predictions')\n",
    "plt.legend()\n",
    "\n",
    "plt.subplot(1, 2, 2)\n",
    "plt.scatter(range(len(y_test)), y_test, label='Actual')\n",
    "plt.scatter(range(len(y_test)), knn_predictions, label='K-Nearest Neighbors')\n",
    "plt.xlabel('Instance')\n",
    "plt.ylabel('Class Label')\n",
    "plt.title('K-Nearest Neighbors Predictions')\n",
    "plt.legend()\n",
    "\n",
    "plt.tight_layout()\n",
    "plt.show()\n"
   ]
  }
 ],
 "metadata": {
  "kernelspec": {
   "display_name": "Python 3 (ipykernel)",
   "language": "python",
   "name": "python3"
  },
  "language_info": {
   "codemirror_mode": {
    "name": "ipython",
    "version": 3
   },
   "file_extension": ".py",
   "mimetype": "text/x-python",
   "name": "python",
   "nbconvert_exporter": "python",
   "pygments_lexer": "ipython3",
   "version": "3.9.13"
  }
 },
 "nbformat": 4,
 "nbformat_minor": 5
}
